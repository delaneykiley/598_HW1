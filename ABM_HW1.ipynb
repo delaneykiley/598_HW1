{
  "nbformat": 4,
  "nbformat_minor": 0,
  "metadata": {
    "colab": {
      "provenance": []
    },
    "kernelspec": {
      "name": "ir",
      "display_name": "R"
    },
    "language_info": {
      "name": "R"
    }
  },
  "cells": [
    {
      "cell_type": "markdown",
      "source": [
        "# Problem 1"
      ],
      "metadata": {
        "id": "LPGZd3zyqInm"
      }
    },
    {
      "cell_type": "markdown",
      "source": [
        " Some film review aggregator websites publish ranked lists of movies based on the number of\n",
        "positive critical reviews out of a total number counted for each movie. Sometimes an\n",
        "“adjusted score” is used, for which a movie with a higher approval percentage can actually\n",
        "rank lower on the list.\n"
      ],
      "metadata": {
        "id": "SAFfU0pjqNzX"
      }
    },
    {
      "cell_type": "markdown",
      "source": [
        "Consider the following hypothetical scenario:\n",
        "\n",
        "Movie 1:\n",
        "9 positive reviews out of 10 (90%)\n",
        "\n",
        "Movie 2:\n",
        "425 positive reviews out of 500 (85%)\n"
      ],
      "metadata": {
        "id": "rsHEuoTPqUoN"
      }
    },
    {
      "cell_type": "markdown",
      "source": [
        "Assume that reviews of Movie i have a common probability pi of being positive (depending\n",
        "on the movie) and are independent (conditional on pi). Assume a U(0, 1) prior on each pi\n",
        ".\n"
      ],
      "metadata": {
        "id": "CWSztFl8qZdg"
      }
    },
    {
      "cell_type": "markdown",
      "source": [
        "a) Determine the posterior distribution of p1 and of p2 (separately). (Name the\n",
        "type of distribution and give the values of its defining constants.)"
      ],
      "metadata": {
        "id": "bHhVp3apsxa8"
      }
    },
    {
      "cell_type": "markdown",
      "source": [
        "Let *θ* represent the proportion of positive reviews for a movie (out of all its reviews), *y* represent the number of positive reviews for a movie, and *n* represent the total number of reviews for a movie, so that we can say we have a sampling distribution represented by the following:\n",
        "\n",
        "$y | θ$ ~ Bin($n, θ$)"
      ],
      "metadata": {
        "id": "adSysSTqs_QL"
      }
    },
    {
      "cell_type": "markdown",
      "source": [
        "Its sampling density will then be:\n",
        "\n",
        "$p(y | θ) = \\binom{n}{y}  θ^y (1 - θ)^{n-y}$, for $y$ = 0,...,$n$\n"
      ],
      "metadata": {
        "id": "nxFKC23vviu6"
      }
    },
    {
      "cell_type": "markdown",
      "source": [
        "For the case of Movie 1:\n",
        "\n",
        "$y = 9$\n",
        "\n",
        "$n = 10$\n",
        "\n",
        "Plugging those values into the sampling density gives us the following likelihood:\n",
        "\n",
        "$p(y=9 | θ) = \\binom{10}{9}  θ^9 (1 - θ)^{10-9} ∝ θ^9 (1 - θ)$\n",
        "\n"
      ],
      "metadata": {
        "id": "EzXLpEbtvAE6"
      }
    },
    {
      "cell_type": "markdown",
      "source": [
        "Given a uniform prior on *p* we can then say that $p(θ) = 1$ for values of θ between 0 and 1."
      ],
      "metadata": {
        "id": "SJ5oZ0UO1pme"
      }
    },
    {
      "cell_type": "markdown",
      "source": [
        "Next, apply Bayes' rule to get the posterior density:\n",
        "\n",
        "$p(θ | y=9) ∝ (1)  θ^9 (1 - θ)^{10-9} ∝ θ^9 (1 - θ)$"
      ],
      "metadata": {
        "id": "VG-3BcTQ2Kag"
      }
    },
    {
      "cell_type": "markdown",
      "source": [
        "From there, we can say that the posterior distribution for Movie 1 will be:\n",
        "\n",
        "$θ | y = 9$ ~ Beta$(α = 10, β = 2)$"
      ],
      "metadata": {
        "id": "TPxNgd5S3AZl"
      }
    },
    {
      "cell_type": "markdown",
      "source": [
        "Using the same process as above, the posterior distribution for Movie 2 (where $y = 425$ and $n = 500$) will be:\n",
        "\n",
        "$θ | y = 425$ ~ Beta$(α = 426, β = 76)$"
      ],
      "metadata": {
        "id": "zxJKg6ty4kcl"
      }
    },
    {
      "cell_type": "markdown",
      "source": [
        "b) Which movie ranks higher according to posterior mean? According to posterior\n",
        "median? According to posterior mode? Show your computations. (For median, use R\n",
        "function qbeta. For mean and mode, use formulas in BDA3, Table A.1. Do not use\n",
        "simulation, as it may not be sufficiently accurate.)"
      ],
      "metadata": {
        "id": "jPuMlt1F5BNF"
      }
    },
    {
      "cell_type": "markdown",
      "source": [
        "The posterior mean for Movie 1 is as follows:\n",
        "\n",
        "$ E(θ | y = 9)$ = $α \\over α + β $ = $10 \\over 10 + 2$ $≈ 0.833$\n",
        "\n",
        "And the posterior mean for Movie 2 is:\n",
        "\n",
        "$ E(θ | y = 425)$ = $α \\over α + β $ = $426 \\over 426 + 76$ $≈ 0.849$\n"
      ],
      "metadata": {
        "id": "7MjmrtH-5DKV"
      }
    },
    {
      "cell_type": "markdown",
      "source": [
        "According to posterior mean, Movie 2 ranks higher."
      ],
      "metadata": {
        "id": "9n1dkRK3ONdm"
      }
    },
    {
      "cell_type": "markdown",
      "source": [
        "The posterior mode for Movie 1 is as follows:\n",
        "\n",
        "$ E(θ | y = 9)$ = $α - 1 \\over α + β - 2 $ = $10 - 1 \\over 10 + 2 - 2$ $= 0.9$\n",
        "\n",
        "And the posterior mode for Movie 2 is:\n",
        "\n",
        "$ E(θ | y = 425)$ = $α - 1 \\over α + β - 2 $ = $426 - 1 \\over 426 + 76 - 2$ $= 0.85$"
      ],
      "metadata": {
        "id": "uLhTC0ZDLy5d"
      }
    },
    {
      "cell_type": "markdown",
      "source": [
        "According to posterior mode, Movie 1 ranks higher."
      ],
      "metadata": {
        "id": "2GUzr326ORJU"
      }
    },
    {
      "cell_type": "markdown",
      "source": [
        "Using the R function qbeta, the posterior median for Movie 1 is as follows:"
      ],
      "metadata": {
        "id": "hTGyjciw5Pn3"
      }
    },
    {
      "cell_type": "code",
      "source": [
        "posterior.samples <- qbeta(c(0.5), 10, 2)\n",
        "median(posterior.samples)"
      ],
      "metadata": {
        "colab": {
          "base_uri": "https://localhost:8080/",
          "height": 34
        },
        "id": "9wvpJIcy5XkK",
        "outputId": "d5b67260-41a6-4aad-955d-9ee83a845e2e"
      },
      "execution_count": null,
      "outputs": [
        {
          "output_type": "display_data",
          "data": {
            "text/html": [
              "0.852036574569394"
            ],
            "text/markdown": "0.852036574569394",
            "text/latex": "0.852036574569394",
            "text/plain": [
              "[1] 0.8520366"
            ]
          },
          "metadata": {}
        }
      ]
    },
    {
      "cell_type": "markdown",
      "source": [
        "And the posterior median for Movie 2 is:"
      ],
      "metadata": {
        "id": "8v-q12JPOVCD"
      }
    },
    {
      "cell_type": "code",
      "source": [
        "posterior.samples <- qbeta(c(0.5), 426, 76)\n",
        "median(posterior.samples)"
      ],
      "metadata": {
        "colab": {
          "base_uri": "https://localhost:8080/",
          "height": 34
        },
        "id": "B9ubM3cXOYqo",
        "outputId": "d3666ceb-9612-418b-9b67-09188c340fdc"
      },
      "execution_count": 1,
      "outputs": [
        {
          "output_type": "display_data",
          "data": {
            "text/html": [
              "0.849068693158005"
            ],
            "text/markdown": "0.849068693158005",
            "text/latex": "0.849068693158005",
            "text/plain": [
              "[1] 0.8490687"
            ]
          },
          "metadata": {}
        }
      ]
    },
    {
      "cell_type": "markdown",
      "source": [
        "According to posterior median, Movie 1 ranks higher."
      ],
      "metadata": {
        "id": "kjqjNxVxOlL9"
      }
    },
    {
      "cell_type": "code",
      "source": [],
      "metadata": {
        "id": "X581Vx1G5kNT"
      },
      "execution_count": null,
      "outputs": []
    },
    {
      "cell_type": "markdown",
      "source": [
        "# Problem 2"
      ],
      "metadata": {
        "id": "c82a6gud5tAA"
      }
    },
    {
      "cell_type": "markdown",
      "source": [
        " File **randomwikipedia.txt** contains the ID number and number of bytes in length for 20\n",
        "randomly selected English Wikipedia articles."
      ],
      "metadata": {
        "id": "tvlPw-N259u6"
      }
    },
    {
      "cell_type": "markdown",
      "source": [
        "(a) (i) Display a histogram of article length, and describe the distribution.\n"
      ],
      "metadata": {
        "id": "tkwjxFZS6Av9"
      }
    },
    {
      "cell_type": "code",
      "source": [
        "data <- read.table(\"randomwikipedia.txt\", header = TRUE)"
      ],
      "metadata": {
        "id": "TBxVIoMpPq-c"
      },
      "execution_count": 4,
      "outputs": []
    },
    {
      "cell_type": "code",
      "source": [
        "head(data)"
      ],
      "metadata": {
        "colab": {
          "base_uri": "https://localhost:8080/",
          "height": 286
        },
        "id": "PNkDRCmaQsS9",
        "outputId": "fc3be0e5-7e46-47aa-9955-1cc32e4bfc9d"
      },
      "execution_count": 5,
      "outputs": [
        {
          "output_type": "display_data",
          "data": {
            "text/html": [
              "<table class=\"dataframe\">\n",
              "<caption>A data.frame: 6 × 2</caption>\n",
              "<thead>\n",
              "\t<tr><th></th><th scope=col>pageID</th><th scope=col>bytes</th></tr>\n",
              "\t<tr><th></th><th scope=col>&lt;int&gt;</th><th scope=col>&lt;int&gt;</th></tr>\n",
              "</thead>\n",
              "<tbody>\n",
              "\t<tr><th scope=row>1</th><td> 3952653</td><td>18284</td></tr>\n",
              "\t<tr><th scope=row>2</th><td>22091611</td><td> 2222</td></tr>\n",
              "\t<tr><th scope=row>3</th><td>72611703</td><td> 4037</td></tr>\n",
              "\t<tr><th scope=row>4</th><td> 1995807</td><td> 7533</td></tr>\n",
              "\t<tr><th scope=row>5</th><td>64302262</td><td>  984</td></tr>\n",
              "\t<tr><th scope=row>6</th><td>12066155</td><td>10881</td></tr>\n",
              "</tbody>\n",
              "</table>\n"
            ],
            "text/markdown": "\nA data.frame: 6 × 2\n\n| <!--/--> | pageID &lt;int&gt; | bytes &lt;int&gt; |\n|---|---|---|\n| 1 |  3952653 | 18284 |\n| 2 | 22091611 |  2222 |\n| 3 | 72611703 |  4037 |\n| 4 |  1995807 |  7533 |\n| 5 | 64302262 |   984 |\n| 6 | 12066155 | 10881 |\n\n",
            "text/latex": "A data.frame: 6 × 2\n\\begin{tabular}{r|ll}\n  & pageID & bytes\\\\\n  & <int> & <int>\\\\\n\\hline\n\t1 &  3952653 & 18284\\\\\n\t2 & 22091611 &  2222\\\\\n\t3 & 72611703 &  4037\\\\\n\t4 &  1995807 &  7533\\\\\n\t5 & 64302262 &   984\\\\\n\t6 & 12066155 & 10881\\\\\n\\end{tabular}\n",
            "text/plain": [
              "  pageID   bytes\n",
              "1  3952653 18284\n",
              "2 22091611  2222\n",
              "3 72611703  4037\n",
              "4  1995807  7533\n",
              "5 64302262   984\n",
              "6 12066155 10881"
            ]
          },
          "metadata": {}
        }
      ]
    },
    {
      "cell_type": "code",
      "source": [
        "hist(data$bytes)"
      ],
      "metadata": {
        "colab": {
          "base_uri": "https://localhost:8080/",
          "height": 437
        },
        "id": "UCfYLJh4Q2QA",
        "outputId": "db4f9ff7-9795-4d2a-8d0a-2a58d3ddbf07"
      },
      "execution_count": 6,
      "outputs": [
        {
          "output_type": "display_data",
          "data": {
            "text/plain": [
              "Plot with title “Histogram of data$bytes”"
            ],
            "image/png": "[encoded data removed]"
          },
          "metadata": {
            "image/png": {
              "width": 420,
              "height": 420
            }
          }
        }
      ]
    },
    {
      "cell_type": "code",
      "source": [
        "summary(data$bytes)"
      ],
      "metadata": {
        "colab": {
          "base_uri": "https://localhost:8080/",
          "height": 52
        },
        "id": "Fvmv6mgGQ_r5",
        "outputId": "fb8a6039-8a5f-49cf-a86a-9f6b52803a5b"
      },
      "execution_count": 7,
      "outputs": [
        {
          "output_type": "display_data",
          "data": {
            "text/plain": [
              "   Min. 1st Qu.  Median    Mean 3rd Qu.    Max. \n",
              "    323    1434    3330    5146    7541   18284 "
            ]
          },
          "metadata": {}
        }
      ]
    },
    {
      "cell_type": "markdown",
      "source": [
        "As shown in the histogram above, the distribution is skewed to the right."
      ],
      "metadata": {
        "id": "wWg5QZlfRsQh"
      }
    },
    {
      "cell_type": "markdown",
      "source": [
        "(a) (ii) Transform article length to the (natural) log scale. Then re-display the\n",
        "histogram and describe the distribution."
      ],
      "metadata": {
        "id": "4z3XueUyR5yK"
      }
    },
    {
      "cell_type": "code",
      "source": [
        "hist(log(data$bytes))"
      ],
      "metadata": {
        "colab": {
          "base_uri": "https://localhost:8080/",
          "height": 437
        },
        "id": "xtefSqCASIBl",
        "outputId": "63850483-65d5-4576-d769-9c664e9a866a"
      },
      "execution_count": 8,
      "outputs": [
        {
          "output_type": "display_data",
          "data": {
            "text/plain": [
              "Plot with title “Histogram of log(data$bytes)”"
            ],
            "image/png": "[encoded data removed]"
          },
          "metadata": {
            "image/png": {
              "width": 420,
              "height": 420
            }
          }
        }
      ]
    },
    {
      "cell_type": "code",
      "source": [
        "summary(log(data$bytes))"
      ],
      "metadata": {
        "colab": {
          "base_uri": "https://localhost:8080/",
          "height": 52
        },
        "id": "4wRdQmPRShOZ",
        "outputId": "30007939-154f-4024-ae24-f6ae43cec7ce"
      },
      "execution_count": 9,
      "outputs": [
        {
          "output_type": "display_data",
          "data": {
            "text/plain": [
              "   Min. 1st Qu.  Median    Mean 3rd Qu.    Max. \n",
              "  5.778   7.268   8.109   8.050   8.928   9.814 "
            ]
          },
          "metadata": {}
        }
      ]
    },
    {
      "cell_type": "markdown",
      "source": [
        "After transforming to the log scale, the histogram is less right-skewed than it was previously and looks (more) like a normal distribution."
      ],
      "metadata": {
        "id": "M3ZvRMqHSklJ"
      }
    },
    {
      "cell_type": "markdown",
      "source": [
        "(a) (iii) Based on your histograms, explain why the log scale would be better to use\n",
        "for the remainder of the analysis."
      ],
      "metadata": {
        "id": "slxK7lBZR_wO"
      }
    },
    {
      "cell_type": "markdown",
      "source": [
        "Since the instructions in the next section ask us to assume that the $y_i$s (representing the lengths of article i) have a normal sampling distribution, I would say that it would be better to use the log scale for the remainder of the analysis because we can see from the two histograms plotted above that the log scale produces a distribution that looks much more normal than the untransformed data."
      ],
      "metadata": {
        "id": "NcNP1yVKS1TN"
      }
    },
    {
      "cell_type": "markdown",
      "source": [
        "(b) Let $y_i$ be length of article $i$ on the $log$ scale: the natural logarithm of the\n",
        "number of bytes. Compute the sample mean and sample variance of $y_1, . . . , y_{20}$.\n"
      ],
      "metadata": {
        "id": "NoRvzRipTnUu"
      }
    },
    {
      "cell_type": "code",
      "source": [
        "The sample mean is as follows:\n",
        "\n"
      ],
      "metadata": {
        "id": "_OTopbIlT7Zx"
      },
      "execution_count": null,
      "outputs": []
    }
  ]
}