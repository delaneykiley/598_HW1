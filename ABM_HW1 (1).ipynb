{
  "nbformat": 4,
  "nbformat_minor": 0,
  "metadata": {
    "colab": {
      "provenance": []
    },
    "kernelspec": {
      "name": "ir",
      "display_name": "R"
    },
    "language_info": {
      "name": "R"
    }
  },
  "cells": [
    {
      "cell_type": "markdown",
      "source": [
        "# Problem 1"
      ],
      "metadata": {
        "id": "LPGZd3zyqInm"
      }
    },
    {
      "cell_type": "markdown",
      "source": [
        " Some film review aggregator websites publish ranked lists of movies based on the number of\n",
        "positive critical reviews out of a total number counted for each movie. Sometimes an\n",
        "“adjusted score” is used, for which a movie with a higher approval percentage can actually\n",
        "rank lower on the list.\n"
      ],
      "metadata": {
        "id": "SAFfU0pjqNzX"
      }
    },
    {
      "cell_type": "markdown",
      "source": [
        "Consider the following hypothetical scenario:\n",
        "\n",
        "Movie 1:\n",
        "9 positive reviews out of 10 (90%)\n",
        "\n",
        "Movie 2:\n",
        "425 positive reviews out of 500 (85%)\n"
      ],
      "metadata": {
        "id": "rsHEuoTPqUoN"
      }
    },
    {
      "cell_type": "markdown",
      "source": [
        "Assume that reviews of Movie i have a common probability pi of being positive (depending\n",
        "on the movie) and are independent (conditional on pi). Assume a U(0, 1) prior on each pi\n",
        ".\n"
      ],
      "metadata": {
        "id": "CWSztFl8qZdg"
      }
    },
    {
      "cell_type": "markdown",
      "source": [
        "a) Determine the posterior distribution of p1 and of p2 (separately). (Name the\n",
        "type of distribution and give the values of its defining constants.)"
      ],
      "metadata": {
        "id": "bHhVp3apsxa8"
      }
    },
    {
      "cell_type": "markdown",
      "source": [
        "Let *θ* represent the proportion of positive reviews for a movie (out of all its reviews), *y* represent the number of positive reviews for a movie, and *n* represent the total number of reviews for a movie, so that we can say we have a sampling distribution represented by the following:\n",
        "\n",
        "$y | θ$ ~ Bin($n, θ$)"
      ],
      "metadata": {
        "id": "adSysSTqs_QL"
      }
    },
    {
      "cell_type": "markdown",
      "source": [
        "Its sampling density will then be:\n",
        "\n",
        "$p(y | θ) = \\binom{n}{y}  θ^y (1 - θ)^{n-y}$, for $y$ = 0,...,$n$\n"
      ],
      "metadata": {
        "id": "nxFKC23vviu6"
      }
    },
    {
      "cell_type": "markdown",
      "source": [
        "For the case of Movie 1:\n",
        "\n",
        "$y = 9$\n",
        "\n",
        "$n = 10$\n",
        "\n",
        "Plugging those values into the sampling density gives us the following likelihood:\n",
        "\n",
        "$p(y=9 | θ) = \\binom{10}{9}  θ^9 (1 - θ)^{10-9} ∝ θ^9 (1 - θ)$\n",
        "\n"
      ],
      "metadata": {
        "id": "EzXLpEbtvAE6"
      }
    },
    {
      "cell_type": "markdown",
      "source": [
        "Given a uniform prior on *p* we can then say that $p(θ) = 1$ for values of θ between 0 and 1."
      ],
      "metadata": {
        "id": "SJ5oZ0UO1pme"
      }
    },
    {
      "cell_type": "markdown",
      "source": [
        "Next, apply Bayes' rule to get the posterior density:\n",
        "\n",
        "$p(θ | y=9) ∝ (1)  θ^9 (1 - θ)^{10-9} ∝ θ^9 (1 - θ)$"
      ],
      "metadata": {
        "id": "VG-3BcTQ2Kag"
      }
    },
    {
      "cell_type": "markdown",
      "source": [
        "From there, we can say that the posterior distribution for Movie 1 will be:\n",
        "\n",
        "$θ | y = 9$ ~ Beta$(α = 10, β = 2)$"
      ],
      "metadata": {
        "id": "TPxNgd5S3AZl"
      }
    },
    {
      "cell_type": "markdown",
      "source": [
        "Using the same process as above, the posterior distribution for Movie 2 (where $y = 425$ and $n = 500$) will be:\n",
        "\n",
        "$θ | y = 425$ ~ Beta$(α = 426, β = 76)$"
      ],
      "metadata": {
        "id": "zxJKg6ty4kcl"
      }
    },
    {
      "cell_type": "markdown",
      "source": [
        "b) Which movie ranks higher according to posterior mean? According to posterior\n",
        "median? According to posterior mode? Show your computations. (For median, use R\n",
        "function qbeta. For mean and mode, use formulas in BDA3, Table A.1. Do not use\n",
        "simulation, as it may not be sufficiently accurate.)"
      ],
      "metadata": {
        "id": "jPuMlt1F5BNF"
      }
    },
    {
      "cell_type": "markdown",
      "source": [
        "The posterior mean for Movie 1 is as follows:\n",
        "\n",
        "$ E(θ | y = 9)$ = $α \\over α + β $ = $10 \\over 10 + 2$ $≈ 0.833$\n",
        "\n",
        "And the posterior mean for Movie 2 is:\n",
        "\n",
        "$ E(θ | y = 425)$ = $α \\over α + β $ = $426 \\over 426 + 76$ $≈ 0.849$\n"
      ],
      "metadata": {
        "id": "7MjmrtH-5DKV"
      }
    },
    {
      "cell_type": "markdown",
      "source": [
        "According to posterior mean, Movie 2 ranks higher."
      ],
      "metadata": {
        "id": "9n1dkRK3ONdm"
      }
    },
    {
      "cell_type": "markdown",
      "source": [
        "The posterior mode for Movie 1 is as follows:\n",
        "\n",
        "$ E(θ | y = 9)$ = $α - 1 \\over α + β - 2 $ = $10 - 1 \\over 10 + 2 - 2$ $= 0.9$\n",
        "\n",
        "And the posterior mode for Movie 2 is:\n",
        "\n",
        "$ E(θ | y = 425)$ = $α - 1 \\over α + β - 2 $ = $426 - 1 \\over 426 + 76 - 2$ $= 0.85$"
      ],
      "metadata": {
        "id": "uLhTC0ZDLy5d"
      }
    },
    {
      "cell_type": "markdown",
      "source": [
        "According to posterior mode, Movie 1 ranks higher."
      ],
      "metadata": {
        "id": "2GUzr326ORJU"
      }
    },
    {
      "cell_type": "markdown",
      "source": [
        "Using the R function qbeta, the posterior median for Movie 1 is as follows:"
      ],
      "metadata": {
        "id": "hTGyjciw5Pn3"
      }
    },
    {
      "cell_type": "code",
      "source": [
        "posterior.samples <- qbeta(c(0.5), 10, 2)\n",
        "median(posterior.samples)"
      ],
      "metadata": {
        "colab": {
          "base_uri": "https://localhost:8080/",
          "height": 34
        },
        "id": "9wvpJIcy5XkK",
        "outputId": "97ea8d96-6374-4aec-b8ee-43c91ef8c19c"
      },
      "execution_count": 48,
      "outputs": [
        {
          "output_type": "display_data",
          "data": {
            "text/html": [
              "0.852036574569394"
            ],
            "text/markdown": "0.852036574569394",
            "text/latex": "0.852036574569394",
            "text/plain": [
              "[1] 0.8520366"
            ]
          },
          "metadata": {}
        }
      ]
    },
    {
      "cell_type": "markdown",
      "source": [
        "And the posterior median for Movie 2 is:"
      ],
      "metadata": {
        "id": "8v-q12JPOVCD"
      }
    },
    {
      "cell_type": "code",
      "source": [
        "posterior.samples <- qbeta(c(0.5), 426, 76)\n",
        "median(posterior.samples)"
      ],
      "metadata": {
        "colab": {
          "base_uri": "https://localhost:8080/",
          "height": 34
        },
        "id": "B9ubM3cXOYqo",
        "outputId": "ee7702f0-108c-4784-c461-7bed16c4a4cb"
      },
      "execution_count": 49,
      "outputs": [
        {
          "output_type": "display_data",
          "data": {
            "text/html": [
              "0.849068693158005"
            ],
            "text/markdown": "0.849068693158005",
            "text/latex": "0.849068693158005",
            "text/plain": [
              "[1] 0.8490687"
            ]
          },
          "metadata": {}
        }
      ]
    },
    {
      "cell_type": "markdown",
      "source": [
        "According to posterior median, Movie 1 ranks higher."
      ],
      "metadata": {
        "id": "kjqjNxVxOlL9"
      }
    },
    {
      "cell_type": "code",
      "source": [],
      "metadata": {
        "id": "X581Vx1G5kNT"
      },
      "execution_count": 50,
      "outputs": []
    },
    {
      "cell_type": "markdown",
      "source": [
        "# Problem 2"
      ],
      "metadata": {
        "id": "c82a6gud5tAA"
      }
    },
    {
      "cell_type": "markdown",
      "source": [
        " File **randomwikipedia.txt** contains the ID number and number of bytes in length for 20\n",
        "randomly selected English Wikipedia articles."
      ],
      "metadata": {
        "id": "tvlPw-N259u6"
      }
    },
    {
      "cell_type": "markdown",
      "source": [
        "(a) (i) Display a histogram of article length, and describe the distribution.\n"
      ],
      "metadata": {
        "id": "tkwjxFZS6Av9"
      }
    },
    {
      "cell_type": "code",
      "source": [
        "data <- read.table(\"randomwikipedia.txt\", header = TRUE)"
      ],
      "metadata": {
        "id": "TBxVIoMpPq-c"
      },
      "execution_count": 51,
      "outputs": []
    },
    {
      "cell_type": "code",
      "source": [
        "head(data)"
      ],
      "metadata": {
        "colab": {
          "base_uri": "https://localhost:8080/",
          "height": 286
        },
        "id": "PNkDRCmaQsS9",
        "outputId": "98a44e63-8fd6-45dc-feea-bd930e381788"
      },
      "execution_count": 52,
      "outputs": [
        {
          "output_type": "display_data",
          "data": {
            "text/html": [
              "<table class=\"dataframe\">\n",
              "<caption>A data.frame: 6 × 2</caption>\n",
              "<thead>\n",
              "\t<tr><th></th><th scope=col>pageID</th><th scope=col>bytes</th></tr>\n",
              "\t<tr><th></th><th scope=col>&lt;int&gt;</th><th scope=col>&lt;int&gt;</th></tr>\n",
              "</thead>\n",
              "<tbody>\n",
              "\t<tr><th scope=row>1</th><td> 3952653</td><td>18284</td></tr>\n",
              "\t<tr><th scope=row>2</th><td>22091611</td><td> 2222</td></tr>\n",
              "\t<tr><th scope=row>3</th><td>72611703</td><td> 4037</td></tr>\n",
              "\t<tr><th scope=row>4</th><td> 1995807</td><td> 7533</td></tr>\n",
              "\t<tr><th scope=row>5</th><td>64302262</td><td>  984</td></tr>\n",
              "\t<tr><th scope=row>6</th><td>12066155</td><td>10881</td></tr>\n",
              "</tbody>\n",
              "</table>\n"
            ],
            "text/markdown": "\nA data.frame: 6 × 2\n\n| <!--/--> | pageID &lt;int&gt; | bytes &lt;int&gt; |\n|---|---|---|\n| 1 |  3952653 | 18284 |\n| 2 | 22091611 |  2222 |\n| 3 | 72611703 |  4037 |\n| 4 |  1995807 |  7533 |\n| 5 | 64302262 |   984 |\n| 6 | 12066155 | 10881 |\n\n",
            "text/latex": "A data.frame: 6 × 2\n\\begin{tabular}{r|ll}\n  & pageID & bytes\\\\\n  & <int> & <int>\\\\\n\\hline\n\t1 &  3952653 & 18284\\\\\n\t2 & 22091611 &  2222\\\\\n\t3 & 72611703 &  4037\\\\\n\t4 &  1995807 &  7533\\\\\n\t5 & 64302262 &   984\\\\\n\t6 & 12066155 & 10881\\\\\n\\end{tabular}\n",
            "text/plain": [
              "  pageID   bytes\n",
              "1  3952653 18284\n",
              "2 22091611  2222\n",
              "3 72611703  4037\n",
              "4  1995807  7533\n",
              "5 64302262   984\n",
              "6 12066155 10881"
            ]
          },
          "metadata": {}
        }
      ]
    },
    {
      "cell_type": "code",
      "source": [
        "hist(data$bytes)"
      ],
      "metadata": {
        "colab": {
          "base_uri": "https://localhost:8080/",
          "height": 437
        },
        "id": "UCfYLJh4Q2QA",
        "outputId": "737dce67-2c7a-4539-c3c8-ce962cbe5bd3"
      },
      "execution_count": 53,
      "outputs": [
        {
          "output_type": "display_data",
          "data": {
            "text/plain": [
              "Plot with title “Histogram of data$bytes”"
            ],
            "image/png": "[encoded data removed]"
          },
          "metadata": {
            "image/png": {
              "width": 420,
              "height": 420
            }
          }
        }
      ]
    },
    {
      "cell_type": "code",
      "source": [
        "summary(data$bytes)"
      ],
      "metadata": {
        "colab": {
          "base_uri": "https://localhost:8080/",
          "height": 52
        },
        "id": "Fvmv6mgGQ_r5",
        "outputId": "f9a5e71d-817e-4f11-823d-9bc39cbbd405"
      },
      "execution_count": 54,
      "outputs": [
        {
          "output_type": "display_data",
          "data": {
            "text/plain": [
              "   Min. 1st Qu.  Median    Mean 3rd Qu.    Max. \n",
              "    323    1434    3330    5146    7541   18284 "
            ]
          },
          "metadata": {}
        }
      ]
    },
    {
      "cell_type": "markdown",
      "source": [
        "As shown in the histogram above, the distribution is skewed to the right."
      ],
      "metadata": {
        "id": "wWg5QZlfRsQh"
      }
    },
    {
      "cell_type": "markdown",
      "source": [
        "(a) (ii) Transform article length to the (natural) log scale. Then re-display the\n",
        "histogram and describe the distribution."
      ],
      "metadata": {
        "id": "4z3XueUyR5yK"
      }
    },
    {
      "cell_type": "code",
      "source": [
        "hist(log(data$bytes))"
      ],
      "metadata": {
        "colab": {
          "base_uri": "https://localhost:8080/",
          "height": 437
        },
        "id": "xtefSqCASIBl",
        "outputId": "2474433e-dd57-4b87-9bdd-b9b9ff9b4342"
      },
      "execution_count": 55,
      "outputs": [
        {
          "output_type": "display_data",
          "data": {
            "text/plain": [
              "Plot with title “Histogram of log(data$bytes)”"
            ],
            "image/png": "[encoded data removed]"
          },
          "metadata": {
            "image/png": {
              "width": 420,
              "height": 420
            }
          }
        }
      ]
    },
    {
      "cell_type": "code",
      "source": [
        "summary(log(data$bytes))"
      ],
      "metadata": {
        "colab": {
          "base_uri": "https://localhost:8080/",
          "height": 52
        },
        "id": "4wRdQmPRShOZ",
        "outputId": "42827c4b-7577-45fa-d912-ff7ece61fcd1"
      },
      "execution_count": 56,
      "outputs": [
        {
          "output_type": "display_data",
          "data": {
            "text/plain": [
              "   Min. 1st Qu.  Median    Mean 3rd Qu.    Max. \n",
              "  5.778   7.268   8.109   8.050   8.928   9.814 "
            ]
          },
          "metadata": {}
        }
      ]
    },
    {
      "cell_type": "markdown",
      "source": [
        "After transforming to the log scale, the histogram is less right-skewed than it was previously and looks (more) like a normal distribution."
      ],
      "metadata": {
        "id": "M3ZvRMqHSklJ"
      }
    },
    {
      "cell_type": "markdown",
      "source": [
        "(a) (iii) Based on your histograms, explain why the log scale would be better to use\n",
        "for the remainder of the analysis."
      ],
      "metadata": {
        "id": "slxK7lBZR_wO"
      }
    },
    {
      "cell_type": "markdown",
      "source": [
        "Since the instructions in the next section ask us to assume that the $y_i$s (representing the lengths of article i) have a normal sampling distribution, I would say that it would be better to use the log scale for the remainder of the analysis because we can see from the two histograms plotted above that the log scale produces a distribution that looks much more normal than the untransformed data."
      ],
      "metadata": {
        "id": "NcNP1yVKS1TN"
      }
    },
    {
      "cell_type": "markdown",
      "source": [
        "(b) Let $y_i$ be length of article $i$ on the $log$ scale: the natural logarithm of the\n",
        "number of bytes. Compute the sample mean and sample variance of $y_1, . . . , y_{20}$.\n"
      ],
      "metadata": {
        "id": "NoRvzRipTnUu"
      }
    },
    {
      "cell_type": "markdown",
      "source": [
        "The sample mean is as follows:\n",
        "\n",
        "$\\overline{y} = \\frac{1}{n} \\sum_{i=1}^{n} y_{i} = 8.050$"
      ],
      "metadata": {
        "id": "UYWx42MNYfep"
      }
    },
    {
      "cell_type": "code",
      "source": [
        "mean(log(data$bytes))"
      ],
      "metadata": {
        "colab": {
          "base_uri": "https://localhost:8080/",
          "height": 34
        },
        "id": "q4Qkv04Pag3P",
        "outputId": "76c8b99d-79a7-4432-8ff3-4b57bc0a7eff"
      },
      "execution_count": 57,
      "outputs": [
        {
          "output_type": "display_data",
          "data": {
            "text/html": [
              "8.05019406004464"
            ],
            "text/markdown": "8.05019406004464",
            "text/latex": "8.05019406004464",
            "text/plain": [
              "[1] 8.050194"
            ]
          },
          "metadata": {}
        }
      ]
    },
    {
      "cell_type": "markdown",
      "source": [
        "The sample variance is as follows:\n",
        "\n",
        "$s^2 = \\frac{\\sum_{i=1}^{n} (y_{i} - \\overline{y})^2}{n-1} = 1.147$"
      ],
      "metadata": {
        "id": "bCde48COay76"
      }
    },
    {
      "cell_type": "code",
      "source": [
        "var(log(data$bytes))"
      ],
      "metadata": {
        "colab": {
          "base_uri": "https://localhost:8080/",
          "height": 34
        },
        "id": "_35frA53a1Mh",
        "outputId": "adc8eb79-7b06-4c18-8970-a620f083b7e0"
      },
      "execution_count": 58,
      "outputs": [
        {
          "output_type": "display_data",
          "data": {
            "text/html": [
              "1.14737085719042"
            ],
            "text/markdown": "1.14737085719042",
            "text/latex": "1.14737085719042",
            "text/plain": [
              "[1] 1.147371"
            ]
          },
          "metadata": {}
        }
      ]
    },
    {
      "cell_type": "markdown",
      "source": [
        "(c) Assume $\\sigma ^ 2$\n",
        "is known to equal the sample variance. Consider a flat prior for $μ$ Use it to:\n",
        "\n",
        "(i)Compute the posterior mean of µ, posterior variance of µ, and posterior\n",
        "precision of µ."
      ],
      "metadata": {
        "id": "4pnfPZQpdEYc"
      }
    },
    {
      "cell_type": "markdown",
      "source": [
        "The conjugate prior for μ will also have a normal distribution:\n",
        "\n",
        "$μ \\sim$ N($μ_0, τ_0$)\n",
        "\n",
        "We can then say\n",
        "\n",
        "$p(μ) ∝$ exp($-\\frac{1}{2τ_0^2}(μ - μ_0)^2$)\n",
        "\n",
        "and thus the posterior density for μ given $y$ will be the following:\n",
        "\n",
        "$p(μ$ | $y) ∝ p(\\mu) p(y$ | $μ) ∝ $ exp($-\\frac{1}{2τ_n^2}(μ - μ_n)^2$)\n",
        "\n",
        "where $μ_n = \\frac{\\frac{1}{τ_0^2}\\mu_0 + \\frac{n}{σ^2}\\overline{y}}{\\frac{1}{τ_0^2} + \\frac{n}{σ^2}}$ and $\\frac{1}{τ_n^2} = \\frac{1}{τ_0^2} + \\frac{n}{σ^2}$"
      ],
      "metadata": {
        "id": "2MJAlhKLdqnD"
      }
    },
    {
      "cell_type": "markdown",
      "source": [
        "From the prior problems in this set, we already know that $\\overline{y}$ = 8.050, $\\mu_0$ = 8.109, and $τ_0^2$ = $s^2$ = 1.147. Using those values, we can calculate that the posterior mean $μ_n$ = 8.053, the posterior variance $τ_n^2$ = 0.055, and the posterior precision $\\frac{1}{τ_n^2}$ = 18.309."
      ],
      "metadata": {
        "id": "fT5nLd7Jhw8W"
      }
    },
    {
      "cell_type": "code",
      "source": [
        "y_bar = 8.050\n",
        "mu_0 = 8.109\n",
        "tau_0_squared = 1.147\n",
        "n = nrow(data)"
      ],
      "metadata": {
        "id": "u-CpvjxNjpYB"
      },
      "execution_count": 59,
      "outputs": []
    },
    {
      "cell_type": "code",
      "source": [
        "mu_n = ((mu_0/tau_0_squared)+(y_bar*n/tau_0_squared))/((1/tau_0_squared)+n/tau_0_squared)\n",
        "print(mu_n)"
      ],
      "metadata": {
        "colab": {
          "base_uri": "https://localhost:8080/"
        },
        "id": "Sgsy4mfej1oC",
        "outputId": "910049bc-37d3-40a6-a3b7-7b527ed4f62e"
      },
      "execution_count": 60,
      "outputs": [
        {
          "output_type": "stream",
          "name": "stdout",
          "text": [
            "[1] 8.05281\n"
          ]
        }
      ]
    },
    {
      "cell_type": "code",
      "source": [
        "tau_n_squared = 1/((1/tau_0_squared)+(n/tau_0_squared))\n",
        "print(tau_n_squared)"
      ],
      "metadata": {
        "colab": {
          "base_uri": "https://localhost:8080/"
        },
        "id": "yxkioXb8kb5d",
        "outputId": "b84730c0-1757-42c1-dfef-45c5d9e36a34"
      },
      "execution_count": 61,
      "outputs": [
        {
          "output_type": "stream",
          "name": "stdout",
          "text": [
            "[1] 0.05461905\n"
          ]
        }
      ]
    },
    {
      "cell_type": "code",
      "source": [
        "posterior.precision = (1/tau_0_squared)+(n/tau_0_squared)\n",
        "print(posterior.precision)"
      ],
      "metadata": {
        "colab": {
          "base_uri": "https://localhost:8080/"
        },
        "id": "mJjG9l5PksMz",
        "outputId": "710b481f-bb8e-4f1a-945f-eff550c3ccc5"
      },
      "execution_count": 62,
      "outputs": [
        {
          "output_type": "stream",
          "name": "stdout",
          "text": [
            "[1] 18.30863\n"
          ]
        }
      ]
    },
    {
      "cell_type": "markdown",
      "source": [
        "(ii) Plot a prior density of µ and a posterior density of µ together in a single\n",
        "plot. Label which density is which.\n"
      ],
      "metadata": {
        "id": "W3hbOhHUk47T"
      }
    },
    {
      "cell_type": "code",
      "source": [
        "curve(dnorm(x,mu_n,sqrt(tau_n_squared)), 0, 15, n=1000, col=\"red\")\n",
        "curve(dnorm(x,mu_0,sqrt(tau_0_squared)), 0, 15, add=TRUE, col=\"blue\")\n",
        "text(10, 1.5, \"posterior density\", col=\"red\")\n",
        "text(10, 0.2, \"prior\", col=\"blue\")"
      ],
      "metadata": {
        "colab": {
          "base_uri": "https://localhost:8080/",
          "height": 437
        },
        "id": "wn7iQBQ8lBfI",
        "outputId": "21a7ff0c-09b9-4292-c442-ae608864395e"
      },
      "execution_count": 63,
      "outputs": [
        {
          "output_type": "display_data",
          "data": {
            "text/plain": [
              "plot without title"
            ],
            "image/png": "[encoded data removed]"
          },
          "metadata": {
            "image/png": {
              "width": 420,
              "height": 420
            }
          }
        }
      ]
    },
    {
      "cell_type": "markdown",
      "source": [
        "(iii) Compute a 95% central posterior interval for µ."
      ],
      "metadata": {
        "id": "xZ56lBSytgFr"
      }
    },
    {
      "cell_type": "code",
      "source": [
        "qnorm(0.95)"
      ],
      "metadata": {
        "colab": {
          "base_uri": "https://localhost:8080/",
          "height": 34
        },
        "id": "j4Jwb1EXtrat",
        "outputId": "9d4186eb-4d32-4d1d-c4ea-c463a504013b"
      },
      "execution_count": 64,
      "outputs": [
        {
          "output_type": "display_data",
          "data": {
            "text/html": [
              "1.64485362695147"
            ],
            "text/markdown": "1.64485362695147",
            "text/latex": "1.64485362695147",
            "text/plain": [
              "[1] 1.644854"
            ]
          },
          "metadata": {}
        }
      ]
    },
    {
      "cell_type": "code",
      "source": [
        "margin_of_error <- 1.645 * sqrt(tau_n_squared)\n",
        "mu_n - margin_of_error\n",
        "mu_n + margin_of_error"
      ],
      "metadata": {
        "colab": {
          "base_uri": "https://localhost:8080/",
          "height": 52
        },
        "id": "6B65DFs_uA31",
        "outputId": "5893c4f5-8a6c-467e-b4b2-db2b7e749749"
      },
      "execution_count": 65,
      "outputs": [
        {
          "output_type": "display_data",
          "data": {
            "text/html": [
              "7.66836120695362"
            ],
            "text/markdown": "7.66836120695362",
            "text/latex": "7.66836120695362",
            "text/plain": [
              "[1] 7.668361"
            ]
          },
          "metadata": {}
        },
        {
          "output_type": "display_data",
          "data": {
            "text/html": [
              "8.43725784066542"
            ],
            "text/markdown": "8.43725784066542",
            "text/latex": "8.43725784066542",
            "text/plain": [
              "[1] 8.437258"
            ]
          },
          "metadata": {}
        }
      ]
    },
    {
      "cell_type": "markdown",
      "source": [
        "A 95% central posterior interval for μ would be approximately (7.668, 8.437)."
      ],
      "metadata": {
        "id": "ZPzBFa4EuYtz"
      }
    },
    {
      "cell_type": "markdown",
      "source": [
        "(d) Now treat σ\n",
        "2 as unknown, and let µ and σ^2 have prior\n",
        "\n",
        "$p(μ, σ^2) ∝$\n",
        "\n"
      ],
      "metadata": {
        "id": "TUZmAl9Zu6Iw"
      }
    }
  ]
}